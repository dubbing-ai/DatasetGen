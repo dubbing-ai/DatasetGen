{
 "cells": [
  {
   "cell_type": "markdown",
   "metadata": {},
   "source": [
    "# Import Libraries"
   ]
  },
  {
   "cell_type": "code",
   "execution_count": 1,
   "metadata": {},
   "outputs": [
    {
     "name": "stderr",
     "output_type": "stream",
     "text": [
      "c:\\Users\\Ming\\anaconda3\\envs\\voicecraft\\lib\\site-packages\\tqdm\\auto.py:21: TqdmWarning: IProgress not found. Please update jupyter and ipywidgets. See https://ipywidgets.readthedocs.io/en/stable/user_install.html\n",
      "  from .autonotebook import tqdm as notebook_tqdm\n",
      "c:\\Users\\Ming\\anaconda3\\envs\\voicecraft\\lib\\site-packages\\transformers\\utils\\generic.py:482: UserWarning: torch.utils._pytree._register_pytree_node is deprecated. Please use torch.utils._pytree.register_pytree_node instead.\n",
      "  _torch_pytree._register_pytree_node(\n",
      "c:\\Users\\Ming\\anaconda3\\envs\\voicecraft\\lib\\site-packages\\transformers\\utils\\generic.py:339: UserWarning: torch.utils._pytree._register_pytree_node is deprecated. Please use torch.utils._pytree.register_pytree_node instead.\n",
      "  _torch_pytree._register_pytree_node(\n"
     ]
    }
   ],
   "source": [
    "from encoder.encoder import TextEncoder\n",
    "import pandas as pd\n",
    "import numpy as np\n",
    "import torch\n",
    "from tqdm import tqdm"
   ]
  },
  {
   "cell_type": "markdown",
   "metadata": {},
   "source": [
    "# Prepare Function"
   ]
  },
  {
   "cell_type": "code",
   "execution_count": 2,
   "metadata": {},
   "outputs": [],
   "source": [
    "def cosine_similarity(a, b):\n",
    "    type_a = type(a)\n",
    "    type_b = type(b)\n",
    "    assert type_a == type_b, f\"Type mismatch: {type_a} != {type_b}\"\n",
    "\n",
    "    if type_a == torch.Tensor:\n",
    "        return a.dot(b) / (a.norm() * b.norm())\n",
    "    \n",
    "    elif type_a == np.ndarray:\n",
    "        return a.dot(b) / (np.linalg.norm(a) * np.linalg.norm(b))\n",
    "    \n",
    "    return None"
   ]
  },
  {
   "cell_type": "markdown",
   "metadata": {},
   "source": [
    "# Initialise Text Encoder"
   ]
  },
  {
   "cell_type": "code",
   "execution_count": 3,
   "metadata": {},
   "outputs": [
    {
     "name": "stderr",
     "output_type": "stream",
     "text": [
      "c:\\Users\\Ming\\anaconda3\\envs\\voicecraft\\lib\\site-packages\\transformers\\utils\\generic.py:339: UserWarning: torch.utils._pytree._register_pytree_node is deprecated. Please use torch.utils._pytree.register_pytree_node instead.\n",
      "  _torch_pytree._register_pytree_node(\n"
     ]
    }
   ],
   "source": [
    "model_name = \"BAAI/bge-m3\" # \"airesearch/wangchanberta-base-att-spm-uncased\", \"BAAI/bge-m3\"\n",
    "encoder = TextEncoder(model_name)"
   ]
  },
  {
   "cell_type": "markdown",
   "metadata": {},
   "source": [
    "# Test Encoder"
   ]
  },
  {
   "cell_type": "code",
   "execution_count": 4,
   "metadata": {},
   "outputs": [
    {
     "name": "stdout",
     "output_type": "stream",
     "text": [
      "Embedding shape: torch.Size([1, 1024])\n"
     ]
    }
   ],
   "source": [
    "example_text = \"สวัสดีครับ ผมชื่อหมูเด้ง ยินดีที่ได้รู้จักครับ\"\n",
    "example_embedding = encoder.encode(example_text)\n",
    "\n",
    "print(f\"Embedding shape: {example_embedding.shape}\")"
   ]
  },
  {
   "cell_type": "markdown",
   "metadata": {},
   "source": [
    "# Load and Preview Data"
   ]
  },
  {
   "cell_type": "code",
   "execution_count": 5,
   "metadata": {},
   "outputs": [
    {
     "data": {
      "text/html": [
       "<div>\n",
       "<style scoped>\n",
       "    .dataframe tbody tr th:only-of-type {\n",
       "        vertical-align: middle;\n",
       "    }\n",
       "\n",
       "    .dataframe tbody tr th {\n",
       "        vertical-align: top;\n",
       "    }\n",
       "\n",
       "    .dataframe thead th {\n",
       "        text-align: right;\n",
       "    }\n",
       "</style>\n",
       "<table border=\"1\" class=\"dataframe\">\n",
       "  <thead>\n",
       "    <tr style=\"text-align: right;\">\n",
       "      <th></th>\n",
       "      <th>thai sentence</th>\n",
       "      <th>english sentence</th>\n",
       "      <th>thai phoneme</th>\n",
       "      <th>english phoneme</th>\n",
       "    </tr>\n",
       "  </thead>\n",
       "  <tbody>\n",
       "    <tr>\n",
       "      <th>0</th>\n",
       "      <td>วันนี้อากาศดีมาก ฉันคิดว่าเราควรออกไปเดินเล่นท...</td>\n",
       "      <td>The weather is very nice today; do you think w...</td>\n",
       "      <td>w a n n iː4 _ ʔ aː k aː2 t _ d iː _ m aː3 k _ ...</td>\n",
       "      <td>ð ə _ w ɛ ð ɚ ɹ _ ɪ z _ v ɛ ɹ i _ n aɪ s _ t ə...</td>\n",
       "    </tr>\n",
       "    <tr>\n",
       "      <th>1</th>\n",
       "      <td>แม้ว่าฝนจะตกหนัก แต่ฉันก็ยังต้องไปทำงานเพราะมี...</td>\n",
       "      <td>Even though it's raining heavily, I still have...</td>\n",
       "      <td>m ɛː4 w aː3 _ f o5 n _ c a2 _ t o2 k n a2 k _ ...</td>\n",
       "      <td>iː v ə n _ ð oʊ _ ɪ t s _ ɹ eɪ n ɪ ŋ _ h ɛ v i...</td>\n",
       "    </tr>\n",
       "    <tr>\n",
       "      <th>2</th>\n",
       "      <td>เมื่อวานฉันได้พบกับเพื่อนเก่าที่ไม่ได้เจอกันมา...</td>\n",
       "      <td>Yesterday I met an old friend whom I haven't s...</td>\n",
       "      <td>m ɯːa3 w aː n _ cʰ a5 n _ d aː3 j _ pʰ o4 p _ ...</td>\n",
       "      <td>j ɛ s t ɚ d eɪ _ aɪ _ m ɛ t _ ɐ n _ oʊ l d _ f...</td>\n",
       "    </tr>\n",
       "    <tr>\n",
       "      <th>3</th>\n",
       "      <td>ถ้าคุณมีเวลาว่างสุดสัปดาห์นี้ เราไปเที่ยวภูเขา...</td>\n",
       "      <td>If you have free time this weekend, should we ...</td>\n",
       "      <td>tʰ aː3 _ kʰ u n _ m iː _ w eː l aː w aː3 ŋ _ s...</td>\n",
       "      <td>ɪ f _ j uː _ h æ v _ f ɹ iː _ t aɪ m _ ð ɪ s _...</td>\n",
       "    </tr>\n",
       "    <tr>\n",
       "      <th>4</th>\n",
       "      <td>ก่อนที่จะตัดสินใจซื้อบ้านหลังนี้ เราควรพิจารณา...</td>\n",
       "      <td>Before deciding to buy this house, we should c...</td>\n",
       "      <td>k ᴐː2 n _ tʰ iː3 _ c a2 _ t a2 t s i5 n c a j ...</td>\n",
       "      <td>b ɪ f oːɹ _ d ᵻ s aɪ d ɪ ŋ _ t ə _ b aɪ _ ð ɪ ...</td>\n",
       "    </tr>\n",
       "    <tr>\n",
       "      <th>...</th>\n",
       "      <td>...</td>\n",
       "      <td>...</td>\n",
       "      <td>...</td>\n",
       "      <td>...</td>\n",
       "    </tr>\n",
       "    <tr>\n",
       "      <th>2500</th>\n",
       "      <td>ถ้าเรามีความพยายาม ไม่มีอะไรที่เป็นไปไม่ได้</td>\n",
       "      <td>If we have determination, nothing is impossible</td>\n",
       "      <td>tʰ aː3 _ r a w _ m iː _ kʰw aː m pʰ a4 j aː j ...</td>\n",
       "      <td>ɪ f _ w iː _ h æ v _ d ɪ t ɜː m ᵻ n eɪ ʃ ə n ,...</td>\n",
       "    </tr>\n",
       "    <tr>\n",
       "      <th>2501</th>\n",
       "      <td>เราควรอนุรักษ์วัฒนธรรมและประเพณีที่ดีงามของเรา</td>\n",
       "      <td>We should preserve our good culture and tradit...</td>\n",
       "      <td>r a w _ kʰ uːa n _ ʔ a2 n u4 r a4 k _ w a4 t t...</td>\n",
       "      <td>w iː _ ʃ ʊ d _ p ɹ ɪ s ɜː v _ aʊ ɚ _ ɡ ʊ d _ k...</td>\n",
       "    </tr>\n",
       "    <tr>\n",
       "      <th>2502</th>\n",
       "      <td>การเดินทางทำให้เราได้เรียนรู้และเห็นโลกในมุมที...</td>\n",
       "      <td>Traveling allows us to learn and see the world...</td>\n",
       "      <td>k aː n _ d ɤː n tʰ aː ŋ _ tʰ a m h a3 j _ r a ...</td>\n",
       "      <td>t ɹ æ v ə l ɪ ŋ _ ɐ l aʊ z _ ʌ s _ t ə _ l ɜː ...</td>\n",
       "    </tr>\n",
       "    <tr>\n",
       "      <th>2503</th>\n",
       "      <td>ฉันสนใจเรื่องการถ่ายภาพและอยากปรับปรุงทักษะของ...</td>\n",
       "      <td>I'm interested in photography and want to impr...</td>\n",
       "      <td>cʰ a5 n _ s o5 n c a j _ r ɯːa3 ŋ _ k aː n _ t...</td>\n",
       "      <td>aɪ m _ ɪ n t ɹ ə s t ᵻ d _ ɪ n _ f ə t ɑː ɡ ɹ ...</td>\n",
       "    </tr>\n",
       "    <tr>\n",
       "      <th>2504</th>\n",
       "      <td>คุณคิดว่าอนาคตของเทคโนโลยีจะเป็นอย่างไร</td>\n",
       "      <td>What do you think the future of technology wil...</td>\n",
       "      <td>kʰ u n _ kʰ i4 t _ w aː3 _ ʔ a2 n aː kʰ o4 t _...</td>\n",
       "      <td>w ʌ t _ d uː _ j uː _ θ ɪ ŋ k _ ð ə _ f j uː t...</td>\n",
       "    </tr>\n",
       "  </tbody>\n",
       "</table>\n",
       "<p>2505 rows × 4 columns</p>\n",
       "</div>"
      ],
      "text/plain": [
       "                                          thai sentence  \\\n",
       "0     วันนี้อากาศดีมาก ฉันคิดว่าเราควรออกไปเดินเล่นท...   \n",
       "1     แม้ว่าฝนจะตกหนัก แต่ฉันก็ยังต้องไปทำงานเพราะมี...   \n",
       "2     เมื่อวานฉันได้พบกับเพื่อนเก่าที่ไม่ได้เจอกันมา...   \n",
       "3     ถ้าคุณมีเวลาว่างสุดสัปดาห์นี้ เราไปเที่ยวภูเขา...   \n",
       "4     ก่อนที่จะตัดสินใจซื้อบ้านหลังนี้ เราควรพิจารณา...   \n",
       "...                                                 ...   \n",
       "2500        ถ้าเรามีความพยายาม ไม่มีอะไรที่เป็นไปไม่ได้   \n",
       "2501     เราควรอนุรักษ์วัฒนธรรมและประเพณีที่ดีงามของเรา   \n",
       "2502  การเดินทางทำให้เราได้เรียนรู้และเห็นโลกในมุมที...   \n",
       "2503  ฉันสนใจเรื่องการถ่ายภาพและอยากปรับปรุงทักษะของ...   \n",
       "2504            คุณคิดว่าอนาคตของเทคโนโลยีจะเป็นอย่างไร   \n",
       "\n",
       "                                       english sentence  \\\n",
       "0     The weather is very nice today; do you think w...   \n",
       "1     Even though it's raining heavily, I still have...   \n",
       "2     Yesterday I met an old friend whom I haven't s...   \n",
       "3     If you have free time this weekend, should we ...   \n",
       "4     Before deciding to buy this house, we should c...   \n",
       "...                                                 ...   \n",
       "2500    If we have determination, nothing is impossible   \n",
       "2501  We should preserve our good culture and tradit...   \n",
       "2502  Traveling allows us to learn and see the world...   \n",
       "2503  I'm interested in photography and want to impr...   \n",
       "2504  What do you think the future of technology wil...   \n",
       "\n",
       "                                           thai phoneme  \\\n",
       "0     w a n n iː4 _ ʔ aː k aː2 t _ d iː _ m aː3 k _ ...   \n",
       "1     m ɛː4 w aː3 _ f o5 n _ c a2 _ t o2 k n a2 k _ ...   \n",
       "2     m ɯːa3 w aː n _ cʰ a5 n _ d aː3 j _ pʰ o4 p _ ...   \n",
       "3     tʰ aː3 _ kʰ u n _ m iː _ w eː l aː w aː3 ŋ _ s...   \n",
       "4     k ᴐː2 n _ tʰ iː3 _ c a2 _ t a2 t s i5 n c a j ...   \n",
       "...                                                 ...   \n",
       "2500  tʰ aː3 _ r a w _ m iː _ kʰw aː m pʰ a4 j aː j ...   \n",
       "2501  r a w _ kʰ uːa n _ ʔ a2 n u4 r a4 k _ w a4 t t...   \n",
       "2502  k aː n _ d ɤː n tʰ aː ŋ _ tʰ a m h a3 j _ r a ...   \n",
       "2503  cʰ a5 n _ s o5 n c a j _ r ɯːa3 ŋ _ k aː n _ t...   \n",
       "2504  kʰ u n _ kʰ i4 t _ w aː3 _ ʔ a2 n aː kʰ o4 t _...   \n",
       "\n",
       "                                        english phoneme  \n",
       "0     ð ə _ w ɛ ð ɚ ɹ _ ɪ z _ v ɛ ɹ i _ n aɪ s _ t ə...  \n",
       "1     iː v ə n _ ð oʊ _ ɪ t s _ ɹ eɪ n ɪ ŋ _ h ɛ v i...  \n",
       "2     j ɛ s t ɚ d eɪ _ aɪ _ m ɛ t _ ɐ n _ oʊ l d _ f...  \n",
       "3     ɪ f _ j uː _ h æ v _ f ɹ iː _ t aɪ m _ ð ɪ s _...  \n",
       "4     b ɪ f oːɹ _ d ᵻ s aɪ d ɪ ŋ _ t ə _ b aɪ _ ð ɪ ...  \n",
       "...                                                 ...  \n",
       "2500  ɪ f _ w iː _ h æ v _ d ɪ t ɜː m ᵻ n eɪ ʃ ə n ,...  \n",
       "2501  w iː _ ʃ ʊ d _ p ɹ ɪ s ɜː v _ aʊ ɚ _ ɡ ʊ d _ k...  \n",
       "2502  t ɹ æ v ə l ɪ ŋ _ ɐ l aʊ z _ ʌ s _ t ə _ l ɜː ...  \n",
       "2503  aɪ m _ ɪ n t ɹ ə s t ᵻ d _ ɪ n _ f ə t ɑː ɡ ɹ ...  \n",
       "2504  w ʌ t _ d uː _ j uː _ θ ɪ ŋ k _ ð ə _ f j uː t...  \n",
       "\n",
       "[2505 rows x 4 columns]"
      ]
     },
     "execution_count": 5,
     "metadata": {},
     "output_type": "execute_result"
    }
   ],
   "source": [
    "generated_path = \"../generated/processed/combined_sentences_with_phoneme.csv\"\n",
    "df = pd.read_csv(generated_path)\n",
    "df"
   ]
  },
  {
   "cell_type": "markdown",
   "metadata": {},
   "source": [
    "# Encode"
   ]
  },
  {
   "cell_type": "code",
   "execution_count": 6,
   "metadata": {},
   "outputs": [
    {
     "name": "stderr",
     "output_type": "stream",
     "text": [
      "Encoding: 100%|██████████| 2505/2505 [01:14<00:00, 33.85it/s]\n"
     ]
    },
    {
     "name": "stderr",
     "output_type": "stream",
     "text": [
      "c:\\Users\\Ming\\anaconda3\\envs\\voicecraft\\lib\\site-packages\\huggingface_hub\\file_download.py:157: UserWarning: `huggingface_hub` cache-system uses symlinks by default to efficiently store duplicated files but your machine does not support them in C:\\Users\\Ming\\.cache\\huggingface\\hub\\models--BAAI--bge-m3. Caching files will still work but in a degraded version that might require more space on your disk. This warning can be disabled by setting the `HF_HUB_DISABLE_SYMLINKS_WARNING` environment variable. For more details, see https://huggingface.co/docs/huggingface_hub/how-to-cache#limitations.\n",
      "To support symlinks on Windows, you either need to activate Developer Mode or to run Python as an administrator. In order to see activate developer mode, see this article: https://docs.microsoft.com/en-us/windows/apps/get-started/enable-your-device-for-development\n",
      "  warnings.warn(message)\n"
     ]
    }
   ],
   "source": [
    "encoded_texts = []\n",
    "for index, row in tqdm(df.iterrows(), desc=\"Encoding\", total=len(df)):\n",
    "    text = row[\"thai sentence\"]\n",
    "    encoded_text = encoder.encode(text)\n",
    "    encoded_texts.append(encoded_text)"
   ]
  },
  {
   "cell_type": "code",
   "execution_count": 7,
   "metadata": {},
   "outputs": [],
   "source": [
    "encoded_texts = [enc.flatten().cpu().numpy() for enc in encoded_texts]\n",
    "np_encoded_texts = np.array(encoded_texts)"
   ]
  },
  {
   "cell_type": "markdown",
   "metadata": {},
   "source": [
    "# Cosine Similarity"
   ]
  },
  {
   "cell_type": "code",
   "execution_count": 8,
   "metadata": {},
   "outputs": [
    {
     "name": "stderr",
     "output_type": "stream",
     "text": [
      "Calculating cosine similarities: 100%|██████████| 2505/2505 [00:23<00:00, 106.91it/s]\n"
     ]
    }
   ],
   "source": [
    "cosine_similarities = {} # keys (i, j) where i < j\n",
    "for i in tqdm(range(len(np_encoded_texts)), desc=\"Calculating cosine similarities\", total=len(np_encoded_texts)):\n",
    "    for j in range(i + 1, len(np_encoded_texts)):\n",
    "        cosine_sim = cosine_similarity(np_encoded_texts[i], np_encoded_texts[j])\n",
    "        cosine_similarities[(i, j)] = cosine_sim\n",
    "\n",
    "# assert len(cosine_similarities) == len(df) * (len(df) - 1) // 2"
   ]
  },
  {
   "cell_type": "code",
   "execution_count": 9,
   "metadata": {},
   "outputs": [],
   "source": [
    "import pickle\n",
    "with open(\"pickled/cosine_similarities.pkl\", \"wb\") as f:\n",
    "    pickle.dump(cosine_similarities, f)\n",
    "with open(f\"pickled/embeddings_{model_name.split('/')[-1]}.pkl\", \"wb\") as f:\n",
    "    pickle.dump(np_encoded_texts, f)"
   ]
  }
 ],
 "metadata": {
  "kernelspec": {
   "display_name": "voicecraft",
   "language": "python",
   "name": "python3"
  },
  "language_info": {
   "codemirror_mode": {
    "name": "ipython",
    "version": 3
   },
   "file_extension": ".py",
   "mimetype": "text/x-python",
   "name": "python",
   "nbconvert_exporter": "python",
   "pygments_lexer": "ipython3",
   "version": "3.9.20"
  }
 },
 "nbformat": 4,
 "nbformat_minor": 2
}
