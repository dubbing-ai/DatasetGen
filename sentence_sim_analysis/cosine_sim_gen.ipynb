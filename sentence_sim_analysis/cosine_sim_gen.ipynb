{
 "cells": [
  {
   "cell_type": "markdown",
   "metadata": {},
   "source": [
    "# Import Libraries"
   ]
  },
  {
   "cell_type": "code",
   "execution_count": 1,
   "metadata": {},
   "outputs": [],
   "source": [
    "from encoder.encoder import TextEncoder\n",
    "import pandas as pd\n",
    "import numpy as np\n",
    "import torch\n",
    "from tqdm import tqdm\n",
    "import pickle\n",
    "import matplotlib.pyplot as plt\n",
    "import os"
   ]
  },
  {
   "cell_type": "markdown",
   "metadata": {},
   "source": [
    "# Prepare Function"
   ]
  },
  {
   "cell_type": "code",
   "execution_count": 2,
   "metadata": {},
   "outputs": [],
   "source": [
    "def cosine_similarity(a, b):\n",
    "    type_a = type(a)\n",
    "    type_b = type(b)\n",
    "    assert type_a == type_b, f\"Type mismatch: {type_a} != {type_b}\"\n",
    "\n",
    "    if type_a == torch.Tensor:\n",
    "        return a.dot(b) / (a.norm() * b.norm())\n",
    "    \n",
    "    elif type_a == np.ndarray:\n",
    "        return a.dot(b) / (np.linalg.norm(a) * np.linalg.norm(b))\n",
    "    \n",
    "    return None"
   ]
  },
  {
   "cell_type": "markdown",
   "metadata": {},
   "source": [
    "# Initialize Text Encoder"
   ]
  },
  {
   "cell_type": "code",
   "execution_count": 3,
   "metadata": {},
   "outputs": [],
   "source": [
    "model_name = \"BAAI/bge-m3\" # \"airesearch/wangchanberta-base-att-spm-uncased\", \"BAAI/bge-m3\"\n",
    "encoder = TextEncoder(model_name)"
   ]
  },
  {
   "cell_type": "markdown",
   "metadata": {},
   "source": [
    "# Test Encoder"
   ]
  },
  {
   "cell_type": "code",
   "execution_count": 4,
   "metadata": {},
   "outputs": [
    {
     "name": "stdout",
     "output_type": "stream",
     "text": [
      "Embedding shape: torch.Size([1, 1024])\n"
     ]
    }
   ],
   "source": [
    "example_text = \"สวัสดีครับ ผมชื่อหมูเด้ง ยินดีที่ได้รู้จักครับ\"\n",
    "example_embedding = encoder.encode(example_text)\n",
    "\n",
    "print(f\"Embedding shape: {example_embedding.shape}\")"
   ]
  },
  {
   "cell_type": "markdown",
   "metadata": {},
   "source": [
    "# Load and Preview Data"
   ]
  },
  {
   "cell_type": "code",
   "execution_count": 5,
   "metadata": {},
   "outputs": [
    {
     "data": {
      "text/html": [
       "<div>\n",
       "<style scoped>\n",
       "    .dataframe tbody tr th:only-of-type {\n",
       "        vertical-align: middle;\n",
       "    }\n",
       "\n",
       "    .dataframe tbody tr th {\n",
       "        vertical-align: top;\n",
       "    }\n",
       "\n",
       "    .dataframe thead th {\n",
       "        text-align: right;\n",
       "    }\n",
       "</style>\n",
       "<table border=\"1\" class=\"dataframe\">\n",
       "  <thead>\n",
       "    <tr style=\"text-align: right;\">\n",
       "      <th></th>\n",
       "      <th>thai sentence</th>\n",
       "      <th>english sentence</th>\n",
       "    </tr>\n",
       "  </thead>\n",
       "  <tbody>\n",
       "    <tr>\n",
       "      <th>0</th>\n",
       "      <td>แม้ว่าฝนจะตกหนัก แต่ฉันก็ยังต้องไปทำงานเพราะมี...</td>\n",
       "      <td>Even though it's raining heavily, I still have...</td>\n",
       "    </tr>\n",
       "    <tr>\n",
       "      <th>1</th>\n",
       "      <td>เมื่อวานฉันได้พบกับเพื่อนเก่าที่ไม่ได้เจอกันมา...</td>\n",
       "      <td>Yesterday I met an old friend whom I haven't s...</td>\n",
       "    </tr>\n",
       "    <tr>\n",
       "      <th>2</th>\n",
       "      <td>ถ้าคุณมีเวลาว่างสุดสัปดาห์นี้ เราไปเที่ยวภูเขา...</td>\n",
       "      <td>If you have free time this weekend, should we ...</td>\n",
       "    </tr>\n",
       "    <tr>\n",
       "      <th>3</th>\n",
       "      <td>ฉันกำลังเรียนทำอาหารไทย เพราะอยากทำอาหารอร่อยๆ...</td>\n",
       "      <td>I am learning to cook Thai food because I want...</td>\n",
       "    </tr>\n",
       "    <tr>\n",
       "      <th>4</th>\n",
       "      <td>ก่อนที่จะตัดสินใจซื้อบ้านหลังนี้ เราควรพิจารณา...</td>\n",
       "      <td>Before deciding to buy this house, we should c...</td>\n",
       "    </tr>\n",
       "    <tr>\n",
       "      <th>...</th>\n",
       "      <td>...</td>\n",
       "      <td>...</td>\n",
       "    </tr>\n",
       "    <tr>\n",
       "      <th>2801</th>\n",
       "      <td>เราควรอนุรักษ์วัฒนธรรมและประเพณีที่ดีงามของเรา</td>\n",
       "      <td>We should preserve our good culture and tradit...</td>\n",
       "    </tr>\n",
       "    <tr>\n",
       "      <th>2802</th>\n",
       "      <td>การเดินทางทำให้เราได้เรียนรู้และเห็นโลกในมุมที...</td>\n",
       "      <td>Traveling allows us to learn and see the world...</td>\n",
       "    </tr>\n",
       "    <tr>\n",
       "      <th>2803</th>\n",
       "      <td>ฉันสนใจเรื่องการถ่ายภาพและอยากปรับปรุงทักษะของ...</td>\n",
       "      <td>I'm interested in photography and want to impr...</td>\n",
       "    </tr>\n",
       "    <tr>\n",
       "      <th>2804</th>\n",
       "      <td>คุณคิดว่าอนาคตของเทคโนโลยีจะเป็นอย่างไร</td>\n",
       "      <td>What do you think the future of technology wil...</td>\n",
       "    </tr>\n",
       "    <tr>\n",
       "      <th>2805</th>\n",
       "      <td>เราควรใช้ชีวิตด้วยความรักและความสุขในทุกๆวัน</td>\n",
       "      <td>We should live every day with love and happiness</td>\n",
       "    </tr>\n",
       "  </tbody>\n",
       "</table>\n",
       "<p>2806 rows × 2 columns</p>\n",
       "</div>"
      ],
      "text/plain": [
       "                                          thai sentence  \\\n",
       "0     แม้ว่าฝนจะตกหนัก แต่ฉันก็ยังต้องไปทำงานเพราะมี...   \n",
       "1     เมื่อวานฉันได้พบกับเพื่อนเก่าที่ไม่ได้เจอกันมา...   \n",
       "2     ถ้าคุณมีเวลาว่างสุดสัปดาห์นี้ เราไปเที่ยวภูเขา...   \n",
       "3     ฉันกำลังเรียนทำอาหารไทย เพราะอยากทำอาหารอร่อยๆ...   \n",
       "4     ก่อนที่จะตัดสินใจซื้อบ้านหลังนี้ เราควรพิจารณา...   \n",
       "...                                                 ...   \n",
       "2801     เราควรอนุรักษ์วัฒนธรรมและประเพณีที่ดีงามของเรา   \n",
       "2802  การเดินทางทำให้เราได้เรียนรู้และเห็นโลกในมุมที...   \n",
       "2803  ฉันสนใจเรื่องการถ่ายภาพและอยากปรับปรุงทักษะของ...   \n",
       "2804            คุณคิดว่าอนาคตของเทคโนโลยีจะเป็นอย่างไร   \n",
       "2805       เราควรใช้ชีวิตด้วยความรักและความสุขในทุกๆวัน   \n",
       "\n",
       "                                       english sentence  \n",
       "0     Even though it's raining heavily, I still have...  \n",
       "1     Yesterday I met an old friend whom I haven't s...  \n",
       "2     If you have free time this weekend, should we ...  \n",
       "3     I am learning to cook Thai food because I want...  \n",
       "4     Before deciding to buy this house, we should c...  \n",
       "...                                                 ...  \n",
       "2801  We should preserve our good culture and tradit...  \n",
       "2802  Traveling allows us to learn and see the world...  \n",
       "2803  I'm interested in photography and want to impr...  \n",
       "2804  What do you think the future of technology wil...  \n",
       "2805   We should live every day with love and happiness  \n",
       "\n",
       "[2806 rows x 2 columns]"
      ]
     },
     "execution_count": 5,
     "metadata": {},
     "output_type": "execute_result"
    }
   ],
   "source": [
    "generated_path = \"../generated/reviewed/combined_sentences_reviewed.csv\"\n",
    "df = pd.read_csv(generated_path)\n",
    "df"
   ]
  },
  {
   "cell_type": "markdown",
   "metadata": {},
   "source": [
    "# Encode"
   ]
  },
  {
   "cell_type": "code",
   "execution_count": 6,
   "metadata": {},
   "outputs": [
    {
     "name": "stderr",
     "output_type": "stream",
     "text": [
      "Encoding: 100%|██████████| 2806/2806 [00:32<00:00, 87.14it/s]\n"
     ]
    }
   ],
   "source": [
    "encoded_texts = []\n",
    "for index, row in tqdm(df.iterrows(), desc=\"Encoding\", total=len(df)):\n",
    "    text = row[\"thai sentence\"]\n",
    "    encoded_text = encoder.encode(text)\n",
    "    encoded_texts.append(encoded_text)"
   ]
  },
  {
   "cell_type": "code",
   "execution_count": 7,
   "metadata": {},
   "outputs": [],
   "source": [
    "encoded_texts = [enc.flatten().cpu().numpy() for enc in encoded_texts]\n",
    "np_encoded_texts = np.array(encoded_texts)"
   ]
  },
  {
   "cell_type": "markdown",
   "metadata": {},
   "source": [
    "# Cosine Similarity"
   ]
  },
  {
   "cell_type": "code",
   "execution_count": 8,
   "metadata": {},
   "outputs": [
    {
     "name": "stderr",
     "output_type": "stream",
     "text": [
      "Calculating cosine similarities: 100%|██████████| 2806/2806 [00:19<00:00, 145.29it/s]\n"
     ]
    }
   ],
   "source": [
    "cosine_similarities = {} # keys (i, j) where i < j\n",
    "for i in tqdm(range(len(np_encoded_texts)), desc=\"Calculating cosine similarities\", total=len(np_encoded_texts)):\n",
    "    for j in range(i + 1, len(np_encoded_texts)):\n",
    "        cosine_sim = cosine_similarity(np_encoded_texts[i], np_encoded_texts[j])\n",
    "        cosine_similarities[(i, j)] = cosine_sim"
   ]
  },
  {
   "cell_type": "markdown",
   "metadata": {},
   "source": [
    "# Save the result for reusable"
   ]
  },
  {
   "cell_type": "code",
   "execution_count": 9,
   "metadata": {},
   "outputs": [],
   "source": [
    "os.makedirs(\"pickled\", exist_ok=True)\n",
    "\n",
    "with open(\"pickled/cosine_similarities.pkl\", \"wb\") as f:\n",
    "    pickle.dump(cosine_similarities, f)\n",
    "with open(f\"pickled/embeddings_{model_name.split('/')[-1]}.pkl\", \"wb\") as f:\n",
    "    pickle.dump(np_encoded_texts, f)"
   ]
  },
  {
   "cell_type": "markdown",
   "metadata": {},
   "source": [
    "# Plot histogram"
   ]
  },
  {
   "cell_type": "code",
   "execution_count": 10,
   "metadata": {},
   "outputs": [],
   "source": [
    "sorted_cosine_similarities = sorted(cosine_similarities.items(), key=lambda x: x[1], reverse=True)"
   ]
  },
  {
   "cell_type": "code",
   "execution_count": 11,
   "metadata": {},
   "outputs": [
    {
     "data": {
      "image/png": "[encoded data removed]",
      "text/plain": [
       "<Figure size 800x500 with 1 Axes>"
      ]
     },
     "metadata": {},
     "output_type": "display_data"
    }
   ],
   "source": [
    "flattened_cosine_similarities = list(cosine_similarities.values())\n",
    "\n",
    "plt.figure(figsize=(8, 5))\n",
    "plt.hist(flattened_cosine_similarities, bins=30, edgecolor='black', alpha=0.7)\n",
    "plt.xlabel(\"Cosine Similarity\")\n",
    "plt.ylabel(\"Frequency\")\n",
    "plt.title(\"Distribution of Cosine Similarities\")\n",
    "plt.grid(axis=\"y\", linestyle=\"--\", alpha=0.7)\n",
    "\n",
    "plt.savefig(\"results/cosine_similarity_distribution.png\", dpi=300, bbox_inches=\"tight\")\n",
    "plt.show()"
   ]
  },
  {
   "cell_type": "markdown",
   "metadata": {},
   "source": [
    "# Thresholding"
   ]
  },
  {
   "cell_type": "code",
   "execution_count": 13,
   "metadata": {},
   "outputs": [
    {
     "name": "stdout",
     "output_type": "stream",
     "text": [
      "Cosine similarity above threshold: 0.9 is saved\n"
     ]
    }
   ],
   "source": [
    "threshold = 0.9\n",
    "cos_sims, line1, sent1, line2, sent2 = [], [], [], [], []\n",
    "for (i, j), cosine_sim in sorted_cosine_similarities:\n",
    "    if cosine_sim < threshold:\n",
    "        break\n",
    "    cos_sims.append(round(cosine_sim, 3))\n",
    "    line1.append(i+2)\n",
    "    line2.append(j+2)\n",
    "    sent1.append(df.iloc[i]['thai sentence'])\n",
    "    sent2.append(df.iloc[j]['thai sentence'])\n",
    "df_sim = pd.DataFrame({\"cosine similarity\": cos_sims, \"line1\": line1, \"sentence1\": sent1, \"line2\": line2, \"sentence2\": sent2})\n",
    "df_sim.to_csv(\"results/cosine_similarities.csv\", index=False)\n",
    "print(f\"Cosine similarity above threshold: {threshold} is saved\")"
   ]
  }
 ],
 "metadata": {
  "kernelspec": {
   "display_name": "khongkhuntts-CfIBPH6q-py3.11",
   "language": "python",
   "name": "python3"
  },
  "language_info": {
   "codemirror_mode": {
    "name": "ipython",
    "version": 3
   },
   "file_extension": ".py",
   "mimetype": "text/x-python",
   "name": "python",
   "nbconvert_exporter": "python",
   "pygments_lexer": "ipython3",
   "version": "3.11.5"
  }
 },
 "nbformat": 4,
 "nbformat_minor": 2
}
