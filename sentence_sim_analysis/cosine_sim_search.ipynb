{
 "cells": [
  {
   "cell_type": "markdown",
   "metadata": {},
   "source": [
    "# Import Libraries"
   ]
  },
  {
   "cell_type": "code",
   "execution_count": 1,
   "metadata": {},
   "outputs": [],
   "source": [
    "import pandas as pd\n",
    "import pickle"
   ]
  },
  {
   "cell_type": "markdown",
   "metadata": {},
   "source": [
    "# Load the data"
   ]
  },
  {
   "cell_type": "code",
   "execution_count": 2,
   "metadata": {},
   "outputs": [],
   "source": [
    "with open(\"pickled/cosine_similarities.pkl\", \"rb\") as f:\n",
    "    cosine_similarities = pickle.load(f)\n",
    "with open(\"pickled/embeddings_bge-m3.pkl\", \"rb\") as f:\n",
    "    np_encoded_texts = pickle.load(f)\n",
    "\n",
    "sorted_cosine_similarities = sorted(cosine_similarities.items(), key=lambda x: x[1], reverse=True)"
   ]
  },
  {
   "cell_type": "code",
   "execution_count": 3,
   "metadata": {},
   "outputs": [],
   "source": [
    "generated_path = \"../generated/reviewed/combined_sentences_reviewed.csv\"\n",
    "df = pd.read_csv(generated_path)"
   ]
  },
  {
   "cell_type": "markdown",
   "metadata": {},
   "source": [
    "# Lookup"
   ]
  },
  {
   "cell_type": "code",
   "execution_count": 6,
   "metadata": {},
   "outputs": [],
   "source": [
    "text = \"ถ้าเราช่วยกันทำงานนี้ เราจะเสร็จเร็วขึ้น\"\n",
    "threshold = 0.95"
   ]
  },
  {
   "cell_type": "code",
   "execution_count": 8,
   "metadata": {},
   "outputs": [
    {
     "name": "stdout",
     "output_type": "stream",
     "text": [
      "Cosine similarity: 1.00\n",
      "Line 787: ถ้าเราช่วยกันทำงานนี้ เราจะเสร็จเร็วขึ้น\n",
      "Line 2249: ถ้าเราช่วยกันทำงานนี้ เราจะเสร็จเร็วขึ้น\n",
      "\n",
      "Cosine similarity: 0.98\n",
      "Line 787: ถ้าเราช่วยกันทำงานนี้ เราจะเสร็จเร็วขึ้น\n",
      "Line 2384: ถ้าเราทำงานร่วมกัน เราจะสามารถทำงานนี้ให้เสร็จเร็วขึ้น\n",
      "\n",
      "Cosine similarity: 0.98\n",
      "Line 2249: ถ้าเราช่วยกันทำงานนี้ เราจะเสร็จเร็วขึ้น\n",
      "Line 2384: ถ้าเราทำงานร่วมกัน เราจะสามารถทำงานนี้ให้เสร็จเร็วขึ้น\n",
      "\n",
      "Cosine similarity: 0.97\n",
      "Line 787: ถ้าเราช่วยกันทำงานนี้ เราจะเสร็จเร็วขึ้น\n",
      "Line 2736: ถ้าเราทำงานร่วมกัน เราจะสำเร็จได้เร็วขึ้น\n",
      "\n",
      "Cosine similarity: 0.97\n",
      "Line 2249: ถ้าเราช่วยกันทำงานนี้ เราจะเสร็จเร็วขึ้น\n",
      "Line 2736: ถ้าเราทำงานร่วมกัน เราจะสำเร็จได้เร็วขึ้น\n",
      "\n",
      "Cosine similarity: 0.96\n",
      "Line 787: ถ้าเราช่วยกันทำงานนี้ เราจะเสร็จเร็วขึ้น\n",
      "Line 1313: ถ้าเราแบ่งงานกันทำ เราจะเสร็จเร็วขึ้น\n",
      "\n"
     ]
    }
   ],
   "source": [
    "for (i, j), cosine_sim in sorted_cosine_similarities:\n",
    "    if cosine_sim < threshold:\n",
    "        break\n",
    "\n",
    "    if df.iloc[i]['thai sentence'] != text:\n",
    "        continue\n",
    "    \n",
    "    print(f\"Cosine similarity: {cosine_sim:.2f}\")\n",
    "    print(f\"Line {i+2}: {df.iloc[i]['thai sentence']}\")\n",
    "    print(f\"Line {j+2}: {df.iloc[j]['thai sentence']}\")\n",
    "    print()"
   ]
  }
 ],
 "metadata": {
  "kernelspec": {
   "display_name": "khongkhuntts-CfIBPH6q-py3.11",
   "language": "python",
   "name": "python3"
  },
  "language_info": {
   "codemirror_mode": {
    "name": "ipython",
    "version": 3
   },
   "file_extension": ".py",
   "mimetype": "text/x-python",
   "name": "python",
   "nbconvert_exporter": "python",
   "pygments_lexer": "ipython3",
   "version": "3.11.5"
  }
 },
 "nbformat": 4,
 "nbformat_minor": 2
}
